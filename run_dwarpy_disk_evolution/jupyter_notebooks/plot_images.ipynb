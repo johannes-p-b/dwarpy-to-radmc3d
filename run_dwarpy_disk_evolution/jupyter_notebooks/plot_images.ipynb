{
 "cells": [
  {
   "cell_type": "code",
   "execution_count": 1,
   "id": "229fffc5",
   "metadata": {},
   "outputs": [
    {
     "name": "stdout",
     "output_type": "stream",
     "text": [
      "Fast (Fortran90) Mie-scattering module could not be imported. Falling back to the slower Python version.\n"
     ]
    }
   ],
   "source": [
    "#\n",
    "# Import packages\n",
    "#\n",
    "import numpy as np\n",
    "from matplotlib import pyplot as plt\n",
    "from matplotlib import cm\n",
    "from radmc3dPy.image import *\n",
    "from radmc3dPy.analyze import *\n",
    "from radmc3dPy.natconst import *\n",
    "#import os"
   ]
  },
  {
   "cell_type": "code",
   "execution_count": 4,
   "id": "043a3fe7",
   "metadata": {},
   "outputs": [
    {
     "data": {
      "text/plain": [
       "0"
      ]
     },
     "execution_count": 4,
     "metadata": {},
     "output_type": "execute_result"
    }
   ],
   "source": [
    "#\n",
    "# Make sure to have done the following beforhand:\n",
    "#\n",
    "#  First compile RADMC-3D\n",
    "#  Then run:\n",
    "#   python problem_setup.py\n",
    "#   radmc3d mctherm\n",
    "#\n",
    "\n",
    "#\n",
    "# Alternatively (e.g. if you work with jupyter notebooks):\n",
    "#\n",
    "#os.system('python problem_setup.py')\n",
    "os.system('radmc3d mctherm dust_density_1 setthreads 8')    # PARALLELIZATION"
   ]
  },
  {
   "cell_type": "code",
   "execution_count": null,
   "id": "fbc2974c",
   "metadata": {},
   "outputs": [],
   "source": []
  }
 ],
 "metadata": {
  "kernelspec": {
   "display_name": "Python 3",
   "language": "python",
   "name": "python3"
  },
  "language_info": {
   "codemirror_mode": {
    "name": "ipython",
    "version": 3
   },
   "file_extension": ".py",
   "mimetype": "text/x-python",
   "name": "python",
   "nbconvert_exporter": "python",
   "pygments_lexer": "ipython3",
   "version": "3.8.8"
  }
 },
 "nbformat": 4,
 "nbformat_minor": 5
}
